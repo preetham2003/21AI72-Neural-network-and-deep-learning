{
 "cells": [
  {
   "cell_type": "code",
   "execution_count": 4,
   "metadata": {},
   "outputs": [
    {
     "name": "stdout",
     "output_type": "stream",
     "text": [
      "[1]\n"
     ]
    }
   ],
   "source": [
    "import numpy as np\n",
    "from sklearn.datasets import load_iris\n",
    "from sklearn.linear_model import Perceptron\n",
    "iris = load_iris()\n",
    "X = iris.data[:, (2, 3)] # petal length, petal width\n",
    "y = (iris.target == 0).astype(int) \n",
    "per_clf = Perceptron(random_state=42)\n",
    "per_clf.fit(X, y)\n",
    "y_pred = per_clf.predict([[2, 0.5]])\n",
    "print(y_pred)"
   ]
  },
  {
   "cell_type": "code",
   "execution_count": 13,
   "metadata": {},
   "outputs": [],
   "source": [
    "import tensorflow as tf\n",
    "from tensorflow import keras\n",
    "import matplotlib.pyplot as plt\n",
    "import numpy as np"
   ]
  },
  {
   "cell_type": "code",
   "execution_count": 14,
   "metadata": {},
   "outputs": [
    {
     "name": "stdout",
     "output_type": "stream",
     "text": [
      "Downloading data from https://storage.googleapis.com/tensorflow/tf-keras-datasets/mnist.npz\n",
      "\u001b[1m11490434/11490434\u001b[0m \u001b[32m━━━━━━━━━━━━━━━━━━━━\u001b[0m\u001b[37m\u001b[0m \u001b[1m4s\u001b[0m 0us/step\n"
     ]
    }
   ],
   "source": [
    "(X_train, y_train) , (X_test, y_test) = keras.datasets.mnist.load_data()"
   ]
  },
  {
   "cell_type": "code",
   "execution_count": null,
   "metadata": {},
   "outputs": [],
   "source": []
  },
  {
   "cell_type": "code",
   "execution_count": 15,
   "metadata": {},
   "outputs": [
    {
     "data": {
      "text/plain": [
       "60000"
      ]
     },
     "execution_count": 15,
     "metadata": {},
     "output_type": "execute_result"
    }
   ],
   "source": [
    "len(X_train)"
   ]
  },
  {
   "cell_type": "code",
   "execution_count": 16,
   "metadata": {},
   "outputs": [
    {
     "data": {
      "text/plain": [
       "10000"
      ]
     },
     "execution_count": 16,
     "metadata": {},
     "output_type": "execute_result"
    }
   ],
   "source": [
    "len(X_test)"
   ]
  },
  {
   "cell_type": "code",
   "execution_count": 17,
   "metadata": {},
   "outputs": [
    {
     "data": {
      "text/plain": [
       "(28, 28)"
      ]
     },
     "execution_count": 17,
     "metadata": {},
     "output_type": "execute_result"
    }
   ],
   "source": [
    "X_train[0].shape"
   ]
  },
  {
   "cell_type": "code",
   "execution_count": 18,
   "metadata": {},
   "outputs": [
    {
     "data": {
      "text/plain": [
       "<matplotlib.image.AxesImage at 0x19dc6ed0490>"
      ]
     },
     "execution_count": 18,
     "metadata": {},
     "output_type": "execute_result"
    },
    {
     "data": {
      "image/png": "[encoded data removed]",
      "text/plain": [
       "<Figure size 480x480 with 1 Axes>"
      ]
     },
     "metadata": {},
     "output_type": "display_data"
    }
   ],
   "source": [
    "plt.matshow(X_train[0])"
   ]
  },
  {
   "cell_type": "code",
   "execution_count": 19,
   "metadata": {},
   "outputs": [
    {
     "data": {
      "text/plain": [
       "5"
      ]
     },
     "execution_count": 19,
     "metadata": {},
     "output_type": "execute_result"
    }
   ],
   "source": [
    "y_train[0]"
   ]
  },
  {
   "cell_type": "code",
   "execution_count": 20,
   "metadata": {},
   "outputs": [],
   "source": [
    "X_train = X_train / 255\n",
    "X_test = X_test / 255"
   ]
  },
  {
   "cell_type": "code",
   "execution_count": 21,
   "metadata": {},
   "outputs": [],
   "source": [
    "X_train_flattened = X_train.reshape(len(X_train), 28*28)\n",
    "X_test_flattened = X_test.reshape(len(X_test), 28*28)"
   ]
  },
  {
   "cell_type": "code",
   "execution_count": 22,
   "metadata": {},
   "outputs": [
    {
     "data": {
      "text/plain": [
       "(60000, 784)"
      ]
     },
     "execution_count": 22,
     "metadata": {},
     "output_type": "execute_result"
    }
   ],
   "source": [
    "X_train_flattened.shape"
   ]
  },
  {
   "cell_type": "code",
   "execution_count": 23,
   "metadata": {},
   "outputs": [
    {
     "name": "stderr",
     "output_type": "stream",
     "text": [
      "c:\\Users\\Preetham\\AppData\\Local\\Programs\\Python\\Python311\\Lib\\site-packages\\keras\\src\\layers\\reshaping\\flatten.py:37: UserWarning: Do not pass an `input_shape`/`input_dim` argument to a layer. When using Sequential models, prefer using an `Input(shape)` object as the first layer in the model instead.\n",
      "  super().__init__(**kwargs)\n"
     ]
    },
    {
     "name": "stdout",
     "output_type": "stream",
     "text": [
      "Epoch 1/5\n",
      "\u001b[1m1875/1875\u001b[0m \u001b[32m━━━━━━━━━━━━━━━━━━━━\u001b[0m\u001b[37m\u001b[0m \u001b[1m9s\u001b[0m 4ms/step - accuracy: 0.8691 - loss: 0.4599\n",
      "Epoch 2/5\n",
      "\u001b[1m1875/1875\u001b[0m \u001b[32m━━━━━━━━━━━━━━━━━━━━\u001b[0m\u001b[37m\u001b[0m \u001b[1m7s\u001b[0m 3ms/step - accuracy: 0.9625 - loss: 0.1307\n",
      "Epoch 3/5\n",
      "\u001b[1m1875/1875\u001b[0m \u001b[32m━━━━━━━━━━━━━━━━━━━━\u001b[0m\u001b[37m\u001b[0m \u001b[1m6s\u001b[0m 3ms/step - accuracy: 0.9739 - loss: 0.0885\n",
      "Epoch 4/5\n",
      "\u001b[1m1875/1875\u001b[0m \u001b[32m━━━━━━━━━━━━━━━━━━━━\u001b[0m\u001b[37m\u001b[0m \u001b[1m7s\u001b[0m 4ms/step - accuracy: 0.9815 - loss: 0.0636\n",
      "Epoch 5/5\n",
      "\u001b[1m1875/1875\u001b[0m \u001b[32m━━━━━━━━━━━━━━━━━━━━\u001b[0m\u001b[37m\u001b[0m \u001b[1m7s\u001b[0m 4ms/step - accuracy: 0.9858 - loss: 0.0483\n"
     ]
    },
    {
     "data": {
      "text/plain": [
       "<keras.src.callbacks.history.History at 0x19dc6cfd090>"
      ]
     },
     "execution_count": 23,
     "metadata": {},
     "output_type": "execute_result"
    }
   ],
   "source": [
    "model = keras.Sequential([\n",
    "    keras.layers.Flatten(input_shape=(28, 28)),\n",
    "    keras.layers.Dense(100, activation='relu'),\n",
    "    keras.layers.Dense(10, activation='sigmoid')\n",
    "])\n",
    "\n",
    "model.compile(optimizer='adam',\n",
    "              loss='sparse_categorical_crossentropy',\n",
    "              metrics=['accuracy'])\n",
    "\n",
    "tb_callback = tf.keras.callbacks.TensorBoard(log_dir=\"logs/\", histogram_freq=1)\n",
    "\n",
    "model.fit(X_train, y_train, epochs=5, callbacks=[tb_callback])"
   ]
  },
  {
   "cell_type": "code",
   "execution_count": 24,
   "metadata": {},
   "outputs": [
    {
     "data": {
      "text/plain": [
       "[array([[ 0.02292658,  0.02194347, -0.01041804, ..., -0.02984334,\n",
       "          0.0613382 , -0.00772815],\n",
       "        [-0.0660631 ,  0.04745016,  0.02830414, ..., -0.07622258,\n",
       "          0.03621057, -0.01807817],\n",
       "        [ 0.04697233, -0.05422889,  0.06048447, ..., -0.00449187,\n",
       "          0.00868897,  0.05812149],\n",
       "        ...,\n",
       "        [ 0.04005827, -0.068841  ,  0.05296086, ..., -0.06978437,\n",
       "          0.0640187 , -0.04951991],\n",
       "        [ 0.05362232,  0.06823207, -0.06223657, ...,  0.01203572,\n",
       "         -0.06641601,  0.07011747],\n",
       "        [ 0.08170921,  0.0557795 , -0.05653661, ..., -0.00413322,\n",
       "         -0.05574966, -0.06762139]], dtype=float32),\n",
       " array([ 0.13045746,  0.05202973, -0.0118463 ,  0.09036128,  0.05201961,\n",
       "        -0.01085413,  0.00199097,  0.05926735, -0.01685892,  0.10484091,\n",
       "         0.19152473,  0.11183769, -0.05376777,  0.00556079,  0.11281952,\n",
       "         0.04968706,  0.03534565,  0.00393736, -0.02830634,  0.03682156,\n",
       "         0.03006229,  0.13253495, -0.03998694, -0.00752865, -0.08538436,\n",
       "        -0.01294533,  0.04288925, -0.03832575,  0.17854717, -0.02044007,\n",
       "        -0.09596954, -0.03513515,  0.02501425, -0.06562455, -0.09750867,\n",
       "         0.10877334,  0.11508416,  0.07301545,  0.11180877,  0.1403003 ,\n",
       "        -0.00853043,  0.05040731,  0.05878207,  0.04882652,  0.06477512,\n",
       "         0.16722952,  0.0113964 , -0.0129132 , -0.13522877, -0.05947166,\n",
       "         0.12395439, -0.03247362,  0.06961811,  0.13192971, -0.03031042,\n",
       "         0.08526015, -0.01366659, -0.06418911,  0.06260666,  0.11154792,\n",
       "         0.05214557, -0.05252559, -0.00821599,  0.07015923,  0.0480403 ,\n",
       "         0.13112117, -0.00426563,  0.00082635,  0.05315363,  0.16037552,\n",
       "         0.09403134, -0.05102609,  0.17305991,  0.18939611,  0.04343703,\n",
       "         0.06648982, -0.00709397, -0.04235768,  0.0193198 , -0.0603172 ,\n",
       "         0.05498004,  0.03532688, -0.08874049, -0.04137075,  0.14269648,\n",
       "         0.04443958, -0.0217449 ,  0.05914109,  0.05226731,  0.04722849,\n",
       "         0.07011361,  0.02737882,  0.22618242,  0.2535812 , -0.01398789,\n",
       "         0.1583096 ,  0.01982717, -0.03899476,  0.00699913, -0.06330359],\n",
       "       dtype=float32),\n",
       " array([[ 2.77216643e-01,  4.24934812e-02,  1.29983485e-01,\n",
       "         -3.45519423e-01,  4.23012763e-01,  9.73595157e-02,\n",
       "         -4.80973534e-02,  4.31313664e-01, -8.49302039e-02,\n",
       "         -4.42216814e-01],\n",
       "        [ 5.32515049e-02,  1.49329528e-01, -8.03068697e-01,\n",
       "          3.27250957e-01, -2.43680894e-01,  1.22714862e-01,\n",
       "          2.53374249e-01,  3.67361575e-01, -2.45149672e-01,\n",
       "         -1.22476868e-01],\n",
       "        [ 2.55955919e-03,  4.66212958e-01,  1.66880086e-01,\n",
       "         -2.59684362e-02,  2.51128703e-01, -3.55791509e-01,\n",
       "          1.35507792e-01, -4.51319739e-02, -5.32015324e-01,\n",
       "         -7.62681723e-01],\n",
       "        [-3.32371444e-01, -6.70588195e-01,  1.43208444e-01,\n",
       "          2.92342156e-01, -1.27092317e-01,  2.00741485e-01,\n",
       "          3.27300668e-01,  4.19471562e-01,  4.43907566e-02,\n",
       "         -7.72439063e-01],\n",
       "        [ 1.67492315e-01, -7.55082667e-01,  8.33476484e-02,\n",
       "         -3.06428581e-01,  2.86799133e-01, -1.78060219e-01,\n",
       "          1.42789796e-01, -2.78299451e-01,  1.20686397e-01,\n",
       "          1.48072526e-01],\n",
       "        [ 1.69664398e-01, -3.26560646e-01,  3.19335535e-02,\n",
       "          3.67302448e-02,  2.68122137e-01, -2.83738047e-01,\n",
       "         -3.37015897e-01,  1.81706667e-01, -7.91669711e-02,\n",
       "          1.53570339e-01],\n",
       "        [ 2.35292658e-01, -9.24042761e-02,  7.72758201e-02,\n",
       "         -6.99592352e-01,  3.26422453e-01, -9.66106579e-02,\n",
       "         -1.80887431e-01,  1.02935754e-01,  3.85086127e-02,\n",
       "          2.98762619e-01],\n",
       "        [-5.54188848e-01, -2.16952279e-01, -1.59762651e-01,\n",
       "         -2.69001245e-01,  3.75114381e-01, -9.29900035e-02,\n",
       "         -5.94089746e-01,  2.40405619e-01,  9.47169960e-02,\n",
       "          2.52310097e-01],\n",
       "        [-4.57090139e-01,  8.28315169e-02, -5.58033645e-01,\n",
       "          2.82642245e-01,  3.92367095e-01,  4.33818579e-01,\n",
       "         -5.63048244e-01, -3.72623831e-01,  8.85376185e-02,\n",
       "          1.84921578e-01],\n",
       "        [ 3.85076832e-03, -3.12664300e-01,  2.37332240e-01,\n",
       "         -2.64392406e-01,  6.32180944e-02,  1.21334000e-02,\n",
       "         -4.58322257e-01,  1.74950764e-01, -2.03554243e-01,\n",
       "          1.94021896e-01],\n",
       "        [-3.97737592e-01, -2.62423605e-01, -3.55991215e-01,\n",
       "         -3.19479674e-01,  1.84951231e-01,  2.65071422e-01,\n",
       "         -3.06072265e-01, -3.02035689e-01,  3.06479394e-01,\n",
       "          2.88444668e-01],\n",
       "        [-6.50312126e-01,  1.51991278e-01, -1.92490853e-02,\n",
       "         -2.65014648e-01, -2.59428024e-01, -2.38572523e-01,\n",
       "         -4.47714746e-01,  4.60077941e-01, -5.51323332e-02,\n",
       "         -3.49285454e-01],\n",
       "        [-2.86446840e-01, -3.94859761e-01,  2.67812759e-01,\n",
       "          3.23934369e-02, -3.35376412e-01,  1.65809557e-01,\n",
       "         -5.45048475e-01,  3.50183606e-01,  1.74339354e-01,\n",
       "         -6.17513239e-01],\n",
       "        [-3.29186797e-01,  1.70205712e-01,  1.74209163e-01,\n",
       "          1.36718854e-01,  8.37048516e-02,  5.04645817e-02,\n",
       "         -1.07501097e-01, -3.77845407e-01,  2.61848420e-01,\n",
       "          4.74220924e-02],\n",
       "        [ 2.38048658e-01,  4.44908068e-02,  1.78024739e-01,\n",
       "          9.27183852e-02,  2.69408584e-01,  1.75776809e-01,\n",
       "         -1.01801075e-01, -3.24165002e-02, -2.65720844e-01,\n",
       "         -3.59548450e-01],\n",
       "        [-5.80732942e-01,  1.24777921e-01,  2.79253066e-01,\n",
       "         -1.08924568e-01, -3.01814467e-01, -1.95399225e-01,\n",
       "         -3.31324302e-02,  1.39380783e-01,  4.04339850e-01,\n",
       "         -5.23740768e-01],\n",
       "        [-7.45893896e-01, -3.06223109e-02, -5.01690745e-01,\n",
       "         -1.94806799e-01,  2.02839613e-01,  3.86125833e-01,\n",
       "          2.42958963e-01, -3.48351598e-01, -1.41865209e-01,\n",
       "          9.01944265e-02],\n",
       "        [ 3.14062864e-01, -1.27335176e-01,  3.42910558e-01,\n",
       "          1.69395134e-01, -1.72523797e-01, -2.04691514e-01,\n",
       "         -2.94997424e-01,  2.51979887e-01, -5.14792502e-01,\n",
       "         -2.39572778e-01],\n",
       "        [ 1.05504058e-01, -1.93692669e-01, -2.13043928e-01,\n",
       "          1.42857566e-01, -2.28070334e-01, -6.66424111e-02,\n",
       "         -5.24890363e-01,  1.30672544e-01,  2.40967777e-02,\n",
       "          1.97654426e-01],\n",
       "        [ 5.35331927e-02, -3.43847573e-01, -2.66867895e-02,\n",
       "         -1.77405983e-01,  5.16887056e-03, -1.36299744e-01,\n",
       "          1.16124958e-01,  1.61738694e-01,  1.96507156e-01,\n",
       "         -2.83471253e-02],\n",
       "        [ 2.09018186e-01,  5.57385869e-02, -7.33420551e-02,\n",
       "          1.20451696e-01, -6.04875565e-01,  6.73927069e-02,\n",
       "         -4.58047688e-01,  5.92190474e-02,  3.22028100e-02,\n",
       "          1.66688636e-01],\n",
       "        [ 1.09101646e-01,  2.91315079e-01, -3.55041660e-02,\n",
       "          2.03409135e-01, -3.97517562e-01,  3.25190127e-01,\n",
       "         -1.85609639e-01, -2.87250727e-01, -1.48009673e-01,\n",
       "         -2.86211908e-01],\n",
       "        [ 1.87813804e-01,  4.29277152e-01, -2.57080764e-01,\n",
       "         -3.93829376e-01,  1.27719402e-01, -1.14663661e-01,\n",
       "          9.43498984e-02, -2.13535577e-01,  4.30381149e-02,\n",
       "          2.20401888e-03],\n",
       "        [ 2.58466542e-01, -4.57391977e-01,  1.16294606e-04,\n",
       "         -1.06681876e-01, -4.75464046e-01, -9.51788947e-02,\n",
       "         -3.45779657e-01,  3.53526114e-03, -1.08271115e-01,\n",
       "          1.35260046e-01],\n",
       "        [ 2.55170465e-01,  2.68407911e-01, -4.08318102e-01,\n",
       "         -7.17304528e-01, -1.35349743e-02, -3.77843201e-01,\n",
       "          4.29271102e-01,  1.19403638e-01, -3.22268367e-01,\n",
       "          9.87889320e-02],\n",
       "        [ 1.95346490e-01,  8.31849128e-02,  2.02204324e-02,\n",
       "         -3.58042449e-01,  1.37893334e-01, -7.66420484e-01,\n",
       "         -3.44176382e-01, -1.30387053e-01, -9.26103517e-02,\n",
       "          2.53198862e-01],\n",
       "        [-1.72234625e-01,  2.94312865e-01, -3.20674747e-01,\n",
       "          2.04625726e-01, -1.74635291e-01,  3.03121448e-01,\n",
       "         -7.38010466e-01, -4.05181706e-01, -7.53998756e-01,\n",
       "          4.78817940e-01],\n",
       "        [ 2.72027642e-01, -2.24019393e-01,  1.18688241e-01,\n",
       "          4.50061969e-02, -1.35531381e-01,  2.32897792e-02,\n",
       "          2.29945406e-01, -2.14139104e-01,  2.13282436e-01,\n",
       "          1.85952604e-01],\n",
       "        [ 2.95483947e-01,  1.35656640e-01, -2.36217722e-01,\n",
       "         -1.04028597e-01, -3.97025049e-01,  1.86661512e-01,\n",
       "         -7.05968514e-02,  1.48793221e-01,  7.30544254e-02,\n",
       "          3.09241593e-01],\n",
       "        [-3.90738398e-01, -4.50086035e-03,  1.50398895e-01,\n",
       "          1.51007921e-01, -5.22223055e-01,  2.00263843e-01,\n",
       "         -5.79085767e-01, -8.55141655e-02,  3.74020040e-02,\n",
       "          6.77366043e-03],\n",
       "        [ 2.36543834e-01,  1.88415483e-01, -4.14410114e-01,\n",
       "         -4.25243974e-02,  3.89191300e-01, -7.28072524e-02,\n",
       "          2.12807894e-01, -1.14078403e-01,  8.30001608e-02,\n",
       "         -5.98672211e-01],\n",
       "        [ 2.71896243e-01, -8.43498945e-01, -3.37833673e-01,\n",
       "         -2.40243778e-01, -6.03956133e-02,  2.54768610e-01,\n",
       "          2.22920433e-01, -5.89858182e-02,  1.06663555e-01,\n",
       "          2.76452214e-01],\n",
       "        [-3.21749747e-01,  1.34931460e-01, -1.58706442e-01,\n",
       "          1.88859582e-01, -1.75597996e-01, -4.34825830e-02,\n",
       "          5.06552830e-02, -1.01718813e-01,  1.66756436e-01,\n",
       "          1.29045814e-01],\n",
       "        [ 6.36464134e-02,  1.03452755e-02,  7.62543036e-03,\n",
       "          8.82665738e-02, -6.42161429e-01,  5.04499786e-02,\n",
       "         -1.00830711e-01, -3.53058726e-01,  1.26435876e-01,\n",
       "          1.10841859e-02],\n",
       "        [ 1.67425320e-01,  8.32857043e-02,  4.21617292e-02,\n",
       "          1.94490120e-01, -6.62469327e-01, -2.57377416e-01,\n",
       "         -1.83027565e-01, -4.38324325e-02,  2.42635217e-02,\n",
       "          1.85906552e-02],\n",
       "        [-2.86028367e-02, -2.17568547e-01,  1.34012744e-01,\n",
       "          5.90888746e-02,  2.08193436e-01,  6.49015680e-02,\n",
       "          1.41547933e-01, -2.49225542e-01,  1.27320781e-01,\n",
       "         -1.80266052e-02],\n",
       "        [ 2.09028125e-01,  1.28640532e-01,  1.27129063e-01,\n",
       "          3.18116397e-02, -2.17572262e-04,  2.35060900e-01,\n",
       "          2.89382756e-01, -5.90859115e-01,  1.83328073e-02,\n",
       "         -5.89380682e-01],\n",
       "        [ 2.80091852e-01,  3.10977429e-01,  2.23043337e-01,\n",
       "         -3.86858702e-01, -3.93496424e-01,  6.72495887e-02,\n",
       "          4.04569715e-01, -3.56906891e-01, -1.59353405e-01,\n",
       "          3.03334564e-01],\n",
       "        [ 1.68102369e-01,  1.75111264e-01, -6.69965923e-01,\n",
       "         -4.94457215e-01,  3.29845473e-02,  2.14979649e-01,\n",
       "          3.28719735e-01, -1.64565593e-01,  1.53516699e-02,\n",
       "          6.94319606e-02],\n",
       "        [-4.07881886e-01,  1.44749999e-01, -1.50916055e-01,\n",
       "          4.43675444e-02,  7.78115988e-02,  3.19512039e-01,\n",
       "         -4.03841168e-01, -1.80833280e-01,  2.35705614e-01,\n",
       "          4.37726751e-02],\n",
       "        [ 3.20153683e-02, -1.39053792e-01,  1.49542689e-01,\n",
       "         -9.14288592e-03, -1.17942834e+00,  2.61733592e-01,\n",
       "          2.06320956e-01,  2.95001548e-02, -1.90834001e-01,\n",
       "         -3.64364237e-01],\n",
       "        [ 2.63965547e-01,  1.31143674e-01,  4.50030923e-01,\n",
       "         -3.23205143e-01, -1.98949829e-01,  2.33172610e-01,\n",
       "          1.39627218e-01, -5.14090918e-02,  1.81906521e-01,\n",
       "         -3.05659235e-01],\n",
       "        [-2.78115690e-01,  2.90440798e-01,  1.64503574e-01,\n",
       "         -3.36286664e-01, -6.25353977e-02,  4.39337194e-01,\n",
       "         -6.03943229e-01,  3.09469700e-01, -7.85877645e-01,\n",
       "         -2.31239751e-01],\n",
       "        [ 1.85574412e-01,  1.15908600e-01, -2.11020276e-01,\n",
       "          7.18325451e-02,  1.83312580e-01,  2.38086537e-01,\n",
       "          1.29049122e-01, -2.10843444e-01,  2.67546386e-01,\n",
       "          8.57590437e-02],\n",
       "        [ 3.14825803e-01, -2.92216271e-01, -3.91434431e-02,\n",
       "         -3.74992013e-01, -4.42164123e-01, -1.91859603e-01,\n",
       "         -2.04283431e-01, -5.13289087e-02,  2.83163995e-01,\n",
       "         -3.05029213e-01],\n",
       "        [-5.55948138e-01,  4.69783247e-01,  5.34994543e-01,\n",
       "         -6.17211424e-02, -6.43395260e-02, -2.52554059e-01,\n",
       "          4.76689264e-02,  5.88665009e-01, -4.96210814e-01,\n",
       "         -8.22506964e-01],\n",
       "        [-7.36833662e-02, -1.17104016e-01, -4.52779770e-01,\n",
       "          1.70974016e-01,  1.67507790e-02, -1.90539882e-02,\n",
       "         -5.06520987e-01,  1.29150137e-01,  2.05341041e-01,\n",
       "          1.90543860e-01],\n",
       "        [ 1.53388903e-01, -4.03775536e-02, -6.37117743e-01,\n",
       "          1.70754582e-01,  9.27074999e-02, -8.17789286e-02,\n",
       "          2.56131385e-02,  1.25348315e-01, -1.70082986e-01,\n",
       "         -1.76803797e-01],\n",
       "        [ 1.66706860e-01, -2.33597215e-03,  7.41797462e-02,\n",
       "          2.84511119e-01,  1.04208104e-01, -1.39114350e-01,\n",
       "          7.86549151e-02,  4.04884696e-01, -7.74155796e-01,\n",
       "         -4.39519919e-02],\n",
       "        [ 2.80900985e-01, -2.94304043e-01,  1.67735234e-01,\n",
       "          1.53842688e-01, -3.09216172e-01, -2.10818499e-02,\n",
       "          1.85492620e-01, -3.46332937e-02,  3.83491740e-02,\n",
       "         -7.62103545e-03],\n",
       "        [ 1.59993440e-01, -1.68641597e-01,  1.82545006e-01,\n",
       "          9.15503874e-02, -6.59741834e-02,  2.06862882e-01,\n",
       "          1.24378018e-01, -1.90022856e-01,  1.46293923e-01,\n",
       "         -2.75721014e-01],\n",
       "        [-1.06780425e-01,  4.16697770e-01, -1.54963369e-02,\n",
       "          9.69144404e-02,  2.01982960e-01, -1.59196019e-01,\n",
       "          1.06325068e-01, -3.82032275e-01, -5.07802844e-01,\n",
       "          2.44187981e-01],\n",
       "        [-7.92695045e-01, -3.26576024e-01, -6.32231832e-01,\n",
       "          4.09885675e-01,  2.07103923e-01,  2.89842844e-01,\n",
       "         -9.43871796e-01, -4.98680741e-01, -6.04072809e-01,\n",
       "          1.93132713e-01],\n",
       "        [-2.67017901e-01,  1.90535665e-01,  3.01504433e-01,\n",
       "         -2.76776940e-01,  2.74374127e-01,  3.13795090e-01,\n",
       "         -2.84054369e-01, -2.78622657e-01, -2.94395357e-01,\n",
       "         -1.03137441e-01],\n",
       "        [-1.26195410e-02,  8.27608928e-02,  2.91336309e-02,\n",
       "         -3.71029854e-01,  2.43813857e-01, -2.57499516e-01,\n",
       "         -5.05246997e-01,  2.14409292e-01, -7.07947731e-01,\n",
       "          5.22141814e-01],\n",
       "        [ 3.10141593e-01, -4.52652365e-01,  1.96118519e-01,\n",
       "          2.90013224e-01, -2.09305257e-01, -5.88776469e-01,\n",
       "          1.85877100e-01,  1.37293592e-01, -2.03829929e-01,\n",
       "          1.75582066e-01],\n",
       "        [-4.34085667e-01, -1.45583987e-01, -3.72192442e-01,\n",
       "          3.24229002e-01,  4.53759618e-02, -6.08754270e-02,\n",
       "          5.88207282e-02, -2.15574130e-01,  2.53297806e-01,\n",
       "          1.65754855e-02],\n",
       "        [ 1.81956500e-01,  1.18982702e-01,  2.08506122e-01,\n",
       "         -1.55972186e-02, -6.57452524e-01, -3.13493103e-01,\n",
       "         -2.53920466e-01, -1.20827205e-01,  1.34328201e-01,\n",
       "          6.07669703e-04],\n",
       "        [-2.43139103e-01, -5.88276759e-02,  8.31650794e-02,\n",
       "         -5.66081405e-01,  2.91387022e-01,  1.46688819e-01,\n",
       "          2.35316753e-01,  1.23307198e-01,  3.51701558e-01,\n",
       "         -3.21796447e-01],\n",
       "        [ 1.77986830e-01, -1.12799823e-01, -1.31986648e-01,\n",
       "          2.39319615e-02, -5.71575940e-01,  2.07167327e-01,\n",
       "         -3.41079801e-01,  6.87264279e-02,  9.28015169e-03,\n",
       "         -2.36663520e-02],\n",
       "        [-9.32566881e-01,  5.14090240e-01, -5.21419227e-01,\n",
       "          1.30030483e-01,  4.87192214e-01, -3.19963694e-01,\n",
       "         -3.89335185e-01, -3.98527347e-02, -5.35359859e-01,\n",
       "          2.23766699e-01],\n",
       "        [ 3.12972754e-01,  4.23265755e-01,  1.21037647e-01,\n",
       "         -3.01926762e-01, -4.10797030e-01, -3.90948176e-01,\n",
       "         -1.28423870e-01,  1.89086437e-01, -3.20319325e-01,\n",
       "          1.71116829e-01],\n",
       "        [-1.34919927e-01,  3.46200436e-01,  1.45790786e-01,\n",
       "          3.98102224e-01,  4.85664159e-01, -9.20840859e-01,\n",
       "          1.23971067e-02,  5.21402396e-02, -4.42951024e-02,\n",
       "         -3.29718471e-01],\n",
       "        [-1.97889194e-01,  1.54244259e-01,  2.20964998e-02,\n",
       "         -3.08531467e-02, -2.71199703e-01, -6.16310053e-02,\n",
       "          1.29558161e-01, -2.41415784e-01,  1.84658393e-01,\n",
       "         -1.80805251e-01],\n",
       "        [-1.44041926e-01, -1.95051789e-01,  1.04842514e-01,\n",
       "          2.12814882e-01, -9.11674857e-01,  3.10130298e-01,\n",
       "         -5.52726388e-01,  1.92203268e-01, -3.43740612e-01,\n",
       "          9.06819627e-02],\n",
       "        [-3.25100236e-02, -3.02117258e-01, -8.62317458e-02,\n",
       "          1.37358755e-01,  1.22113422e-01,  1.46175370e-01,\n",
       "         -9.69870985e-02, -2.19355047e-01,  2.46785507e-01,\n",
       "         -2.18079969e-01],\n",
       "        [-5.27085185e-01, -2.33634666e-01, -1.76701784e-01,\n",
       "          1.76681250e-01, -8.36158618e-02,  3.39923650e-01,\n",
       "          7.16788173e-02,  2.02578843e-01,  1.96147054e-01,\n",
       "          1.86911285e-01],\n",
       "        [-5.01507640e-01,  1.60929680e-01,  2.22405821e-01,\n",
       "          2.81511843e-01,  1.69913843e-01, -3.05863112e-01,\n",
       "         -6.21010482e-01,  1.75120384e-02,  2.50851810e-01,\n",
       "          6.04433678e-02],\n",
       "        [-4.08068895e-01, -2.80941218e-01, -4.80799407e-01,\n",
       "         -2.81045228e-01, -8.82344544e-01,  5.74776351e-01,\n",
       "          4.22948748e-01,  7.35363811e-02, -7.82775953e-02,\n",
       "         -2.03505039e-01],\n",
       "        [ 1.11309886e-01, -5.63859820e-01,  6.30758822e-01,\n",
       "         -7.98496827e-02, -2.75601894e-01,  2.50153214e-01,\n",
       "          1.53559834e-01, -6.30133629e-01, -3.93998474e-01,\n",
       "          2.90260494e-01],\n",
       "        [-1.13240309e-01,  9.59238410e-03, -5.28972387e-01,\n",
       "         -6.54557347e-01,  6.30096972e-01, -4.51437160e-02,\n",
       "          3.43774855e-01,  7.12182820e-02, -3.48423660e-01,\n",
       "         -7.33706772e-01],\n",
       "        [ 5.30548543e-02,  9.43975225e-02,  2.44973570e-01,\n",
       "         -2.59644538e-01, -5.03601432e-01, -3.36300254e-01,\n",
       "         -3.13853353e-01,  4.41107422e-01, -2.42269024e-01,\n",
       "         -4.09359843e-01],\n",
       "        [-5.79049764e-03, -1.61006972e-01, -4.63136375e-01,\n",
       "          3.59891772e-01, -8.13411355e-01,  4.84960586e-01,\n",
       "          5.74217141e-02, -7.47040212e-01, -7.49218017e-02,\n",
       "         -3.06924582e-01],\n",
       "        [-6.19206607e-01,  1.30238011e-01, -3.64547223e-01,\n",
       "         -6.56232238e-03, -2.57177591e-01,  3.69353682e-01,\n",
       "         -1.16559096e-01,  2.30636209e-01,  1.17156610e-01,\n",
       "          1.34519666e-01],\n",
       "        [ 1.12375826e-01, -2.91099489e-01, -1.66639283e-01,\n",
       "         -2.68046468e-01,  1.71083003e-01,  7.36656412e-02,\n",
       "         -4.68285382e-01,  1.67726144e-01,  9.29088593e-02,\n",
       "          1.23316400e-01],\n",
       "        [-1.99485749e-01, -2.01103240e-01,  1.97526470e-01,\n",
       "         -1.83538109e-01,  4.17336298e-04, -2.11525351e-01,\n",
       "          7.12920055e-02, -7.07940832e-02,  1.15407608e-01,\n",
       "         -2.52132535e-01],\n",
       "        [-6.22820675e-01,  3.64640296e-01,  4.79393601e-01,\n",
       "         -2.08513271e-02, -4.18854535e-01,  2.77748853e-01,\n",
       "         -5.22320747e-01,  3.10300916e-01, -4.52060193e-01,\n",
       "         -4.25307959e-01],\n",
       "        [ 1.04037877e-02,  1.20909385e-01,  1.75958574e-01,\n",
       "          2.75203492e-02,  1.35443941e-01, -2.32503921e-01,\n",
       "         -2.27789953e-01, -1.51779741e-01,  1.16044834e-01,\n",
       "         -1.54301561e-02],\n",
       "        [-6.62057102e-02,  1.64625525e-01,  4.38383192e-01,\n",
       "          4.84987199e-02,  2.07395405e-01, -2.88582712e-01,\n",
       "         -5.94681263e-01, -3.85499537e-01, -2.18469631e-02,\n",
       "         -3.94007474e-01],\n",
       "        [-1.32367060e-01,  2.34023221e-02,  4.68961865e-01,\n",
       "          1.72107130e-01,  8.64331722e-02, -3.79310757e-01,\n",
       "          1.14760570e-01,  2.05914274e-01, -1.42770141e-01,\n",
       "         -9.25743461e-01],\n",
       "        [-3.18728000e-01, -3.45786326e-02,  7.10961074e-02,\n",
       "          1.60713315e-01, -2.95130238e-02, -1.45221382e-01,\n",
       "         -1.89331234e-01, -8.85584578e-03,  2.81093687e-01,\n",
       "         -1.64873183e-01],\n",
       "        [-2.11494863e-01, -3.54548216e-01,  1.39001414e-01,\n",
       "         -3.21643054e-01,  2.64962494e-01, -9.38382074e-02,\n",
       "         -1.51954174e-01, -5.44662438e-02,  2.62281209e-01,\n",
       "         -8.48908126e-02],\n",
       "        [-1.13017052e-01, -2.04705283e-01,  2.52173543e-01,\n",
       "          3.19809914e-01,  1.58173338e-01, -7.74936378e-01,\n",
       "         -4.31976378e-01, -3.69015001e-02,  1.13559231e-01,\n",
       "          2.71872312e-01],\n",
       "        [ 1.79668382e-01, -4.49836195e-01,  1.17751129e-01,\n",
       "         -2.30833530e-01, -9.05436650e-02,  2.39288509e-02,\n",
       "          2.40549862e-01, -3.42520267e-01, -1.36194110e-01,\n",
       "          2.22230494e-01],\n",
       "        [ 3.48684758e-01,  2.91713905e-02, -1.32726744e-01,\n",
       "         -1.86977848e-01, -7.33695030e-02,  1.67141601e-01,\n",
       "          3.21611762e-01,  5.06902874e-01, -4.40881252e-01,\n",
       "         -3.00438762e-01],\n",
       "        [-3.29181731e-01,  2.93520063e-01,  3.76848161e-01,\n",
       "         -2.75851518e-01,  2.30303332e-02, -4.05066103e-01,\n",
       "          4.71912064e-02, -1.32553071e-01,  1.52761862e-01,\n",
       "          2.99212158e-01],\n",
       "        [-2.93653756e-01,  2.73472637e-01, -4.70943972e-02,\n",
       "          8.23219717e-02, -5.98129630e-01, -5.92382610e-01,\n",
       "          2.52125323e-01,  2.14559644e-01, -7.95755312e-02,\n",
       "         -4.00632113e-01],\n",
       "        [-3.31088379e-02,  1.65715426e-01,  3.19324285e-01,\n",
       "         -5.39222062e-01,  2.20123827e-01, -6.51509017e-02,\n",
       "          1.97329164e-01,  7.83140436e-02,  1.17856659e-01,\n",
       "         -2.94023395e-01],\n",
       "        [ 1.78642944e-02, -2.51291186e-01, -2.12747641e-02,\n",
       "         -2.79823571e-01, -1.58368405e-02, -1.30095258e-01,\n",
       "          2.85011053e-01, -3.64790499e-01,  2.04084903e-01,\n",
       "          1.24765888e-01],\n",
       "        [-5.08669734e-01,  2.80503362e-01,  2.90088058e-01,\n",
       "         -2.17782736e-01, -2.62842715e-01, -8.40943530e-02,\n",
       "         -4.35160160e-01,  3.05754930e-01,  2.39512265e-01,\n",
       "         -1.63909107e-01],\n",
       "        [-1.07381299e-01,  1.86695114e-01, -1.86005488e-01,\n",
       "          1.35667309e-01,  1.90934047e-01,  2.33269438e-01,\n",
       "          2.77637661e-01, -5.46453655e-01, -3.61660980e-02,\n",
       "         -2.90708870e-01],\n",
       "        [-1.98957786e-01,  6.13886535e-01, -5.67672253e-02,\n",
       "         -7.43896425e-01,  1.22695602e-01, -9.96072590e-03,\n",
       "          1.15367230e-02,  2.37202391e-01, -5.13979375e-01,\n",
       "         -2.28176877e-01],\n",
       "        [-3.16669315e-01, -6.08286262e-01,  3.09356488e-02,\n",
       "         -2.07997382e-01, -4.61462110e-01,  3.96874934e-01,\n",
       "         -2.80988812e-02,  1.26425385e-01, -3.55937421e-01,\n",
       "         -1.43521488e-01],\n",
       "        [-3.23123217e-01, -5.34144878e-01, -6.96123466e-02,\n",
       "          1.68990731e-01, -5.17216809e-02,  2.81227320e-01,\n",
       "         -8.33822131e-01,  1.30895495e-01, -4.48547900e-01,\n",
       "         -8.19491148e-02],\n",
       "        [-1.07472032e-01, -1.06613919e-01, -1.01691499e-01,\n",
       "         -2.16868091e-02,  9.87063572e-02, -1.62890434e-01,\n",
       "          5.11435606e-02, -8.72296616e-02,  1.36982009e-01,\n",
       "         -1.25041917e-01],\n",
       "        [-3.60406071e-01, -1.98485464e-01,  3.12253267e-01,\n",
       "          7.94507861e-02,  1.34999096e-01, -1.96659360e-02,\n",
       "         -5.27093858e-02,  1.79696441e-01, -4.54068810e-01,\n",
       "          2.06815153e-01],\n",
       "        [-3.72308284e-01,  3.61467212e-01, -3.32323939e-01,\n",
       "         -3.84327561e-01,  3.36735547e-01, -3.06945801e-01,\n",
       "          6.02778420e-02,  3.14224660e-01, -2.41605163e-01,\n",
       "          3.08595628e-01],\n",
       "        [ 1.92977026e-01, -3.29008698e-01, -1.90087538e-02,\n",
       "          8.85482579e-02,  5.89256659e-02, -1.64039314e-01,\n",
       "         -2.38776982e-01,  2.04545215e-01,  7.08809420e-02,\n",
       "          2.35203505e-01],\n",
       "        [-1.71866506e-01,  3.03006560e-01,  1.50938824e-01,\n",
       "          2.94377536e-01,  2.63753265e-01, -7.01477051e-01,\n",
       "         -7.32200667e-02,  3.21496934e-01, -2.51940668e-01,\n",
       "         -9.58134048e-03],\n",
       "        [-1.80864051e-01, -2.22691163e-01, -3.62355351e-01,\n",
       "          3.77322808e-02,  2.26784751e-01,  2.69674629e-01,\n",
       "          5.16126342e-02, -2.20708624e-01, -7.43049085e-01,\n",
       "          2.34193668e-01]], dtype=float32),\n",
       " array([-0.09472686, -0.07125773,  0.02992406, -0.05673417,  0.00941136,\n",
       "         0.09809972, -0.02137337, -0.0784744 ,  0.13787493, -0.04745616],\n",
       "       dtype=float32)]"
      ]
     },
     "execution_count": 24,
     "metadata": {},
     "output_type": "execute_result"
    }
   ],
   "source": [
    "model.get_weights()"
   ]
  }
 ],
 "metadata": {
  "kernelspec": {
   "display_name": "Python 3",
   "language": "python",
   "name": "python3"
  },
  "language_info": {
   "codemirror_mode": {
    "name": "ipython",
    "version": 3
   },
   "file_extension": ".py",
   "mimetype": "text/x-python",
   "name": "python",
   "nbconvert_exporter": "python",
   "pygments_lexer": "ipython3",
   "version": "3.11.8"
  }
 },
 "nbformat": 4,
 "nbformat_minor": 2
}
